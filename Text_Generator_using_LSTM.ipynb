{
  "nbformat": 4,
  "nbformat_minor": 0,
  "metadata": {
    "colab": {
      "name": "Text Generator using LSTM.ipynb",
      "provenance": [],
      "collapsed_sections": [],
      "authorship_tag": "ABX9TyOC1IpJiiwFaywt9twzRozJ",
      "include_colab_link": true
    },
    "kernelspec": {
      "name": "python3",
      "display_name": "Python 3"
    },
    "language_info": {
      "name": "python"
    },
    "accelerator": "GPU"
  },
  "cells": [
    {
      "cell_type": "markdown",
      "metadata": {
        "id": "view-in-github",
        "colab_type": "text"
      },
      "source": [
        "<a href=\"https://colab.research.google.com/github/colivarese/Text-Generator-using-LSTM/blob/main/Text_Generator_using_LSTM.ipynb\" target=\"_parent\"><img src=\"https://colab.research.google.com/assets/colab-badge.svg\" alt=\"Open In Colab\"/></a>"
      ]
    },
    {
      "cell_type": "markdown",
      "metadata": {
        "id": "XSmAevPVtD57"
      },
      "source": [
        "# Text Generator with a One-to-Many Neural Network LSTM Architecture"
      ]
    },
    {
      "cell_type": "markdown",
      "metadata": {
        "id": "ndg7CiMZl3GQ"
      },
      "source": [
        "## Import dependencies"
      ]
    },
    {
      "cell_type": "code",
      "metadata": {
        "id": "IgG_CvCwsqkw"
      },
      "source": [
        "import os\n",
        "import numpy as np\n",
        "import re\n",
        "import shutil\n",
        "import tensorflow as tf"
      ],
      "execution_count": null,
      "outputs": []
    },
    {
      "cell_type": "markdown",
      "metadata": {
        "id": "SpRyu-R5tewf"
      },
      "source": [
        "## Let's set a directory path to save the model on each run, we will see this later."
      ]
    },
    {
      "cell_type": "code",
      "metadata": {
        "id": "VV1HPUK5tNp0"
      },
      "source": [
        "DATA_DIR = \"./\"\n",
        "CHECKPOINT_DIR = os.path.join(DATA_DIR, \"chekpoints\")"
      ],
      "execution_count": null,
      "outputs": []
    },
    {
      "cell_type": "markdown",
      "metadata": {
        "id": "NxK108SXtdKd"
      },
      "source": [
        "# Preparing the dataset\n",
        "## Lets define a function to download and read the text data from an URL, in this case we will use the popular book Alice's Adventures in Wonderland by Lewis Carroll from the Gutenberg Project.\n",
        "### We will erase the bir marks, replace the new lines for spaces to have just a long sentence and concatenate the whole text."
      ]
    },
    {
      "cell_type": "code",
      "metadata": {
        "colab": {
          "base_uri": "https://localhost:8080/"
        },
        "id": "kksPTctjtUyu",
        "outputId": "77b38bef-2f4b-4407-82b0-3e0d5a9ff916"
      },
      "source": [
        "def download_and_read(urls):\n",
        "  texts = []\n",
        "  for i, url in enumerate(urls):\n",
        "    p = tf.keras.utils.get_file(\"ex1-{:d}.txt\".format(i), url,cache_dir=\".\")\n",
        "  text = open(p, \"r\").read()\n",
        "  # Erase bit mark\n",
        "  text = text.replace(\"\\ufeff\", \"\")\n",
        "  # Change new lines for spaces\n",
        "  text = text.replace('\\n', ' ')\n",
        "  text = re.sub(r'\\s+', \" \", text)\n",
        "  # Add each text to a list\n",
        "  texts.extend(text)\n",
        "  return texts\n",
        "  \n",
        "texts = download_and_read([\n",
        "\"http://www.gutenberg.org/cache/epub/28885/pg28885.txt\",\n",
        "\"https://www.gutenberg.org/files/12/12-0.txt\"\n",
        "])"
      ],
      "execution_count": null,
      "outputs": [
        {
          "output_type": "stream",
          "text": [
            "Downloading data from http://www.gutenberg.org/cache/epub/28885/pg28885.txt\n",
            "180224/177479 [==============================] - 0s 0us/step\n",
            "Downloading data from https://www.gutenberg.org/files/12/12-0.txt\n",
            "196608/193648 [==============================] - 0s 0us/step\n"
          ],
          "name": "stdout"
        }
      ]
    },
    {
      "cell_type": "markdown",
      "metadata": {
        "id": "bcIzQyhotyxE"
      },
      "source": [
        "## We will get the whole vocabulary of the text creating a set from the text list and sort it."
      ]
    },
    {
      "cell_type": "code",
      "metadata": {
        "colab": {
          "base_uri": "https://localhost:8080/"
        },
        "id": "Ww8aKvWLtwzK",
        "outputId": "8ff4d97e-83eb-44aa-e29c-35247c2cefb0"
      },
      "source": [
        "vocab = sorted(set(texts))\n",
        "print('vocav size: {:d}'.format(len(vocab)))"
      ],
      "execution_count": null,
      "outputs": [
        {
          "output_type": "stream",
          "text": [
            "vocav size: 86\n"
          ],
          "name": "stdout"
        }
      ]
    },
    {
      "cell_type": "markdown",
      "metadata": {
        "id": "mh_SGxKAt-Oa"
      },
      "source": [
        "## Map each word in the vocab to an index so we can use it on the LSTM network."
      ]
    },
    {
      "cell_type": "code",
      "metadata": {
        "id": "Q-mr7giSt6xZ"
      },
      "source": [
        "char2idx = {c:i for i,c in enumerate(vocab)}\n",
        "idx2char = {i:c for c,i in char2idx.items()}"
      ],
      "execution_count": null,
      "outputs": []
    },
    {
      "cell_type": "markdown",
      "metadata": {
        "id": "IMgNJjYxuRsC"
      },
      "source": [
        "## Apply the function to the text."
      ]
    },
    {
      "cell_type": "code",
      "metadata": {
        "id": "T8FspU89uK6I"
      },
      "source": [
        "texts_as_ints = np.array([char2idx[c] for c in texts])\n",
        "data = tf.data.Dataset.from_tensor_slices(texts_as_ints)"
      ],
      "execution_count": null,
      "outputs": []
    },
    {
      "cell_type": "markdown",
      "source": [
        "## Define the length of each sequence to create, and set it as a batch."
      ],
      "metadata": {
        "id": "ziSCyhr2zIE1"
      }
    },
    {
      "cell_type": "code",
      "metadata": {
        "id": "dWtD1OW0uaFG"
      },
      "source": [
        "seq_length = 100\n",
        "sequences = data.batch(seq_length +1, drop_remainder=True)"
      ],
      "execution_count": null,
      "outputs": []
    },
    {
      "cell_type": "markdown",
      "source": [
        "## Lets create a function to define the sequences, lets use a batch size of 64."
      ],
      "metadata": {
        "id": "RVUHDYPdzWdJ"
      }
    },
    {
      "cell_type": "code",
      "metadata": {
        "id": "YiHUukabuheM"
      },
      "source": [
        "def split_train_labels(sequence):\n",
        "  input_seq = sequence[0:-1]\n",
        "  output_seq = sequence[1:]\n",
        "  return input_seq, output_seq\n",
        "\n",
        "sequences = sequences.map(split_train_labels)\n",
        "batch_size = 64\n",
        "steps_per_epoch = len(texts) // seq_length // batch_size\n",
        "dataset = sequences.shuffle(10000).batch(\n",
        "batch_size, drop_remainder=True)"
      ],
      "execution_count": null,
      "outputs": []
    },
    {
      "cell_type": "markdown",
      "metadata": {
        "id": "e7tKczYXuslO"
      },
      "source": [
        "## Lets define the LSTM Model, we will use the GRU layer from Keras, with a glorot uniform initializer and a sigmoid activation function."
      ]
    },
    {
      "cell_type": "code",
      "metadata": {
        "id": "FtERFthnvKxU"
      },
      "source": [
        "class CharGenModel(tf.keras.Model):\n",
        "\n",
        "    def __init__(self, vocab_size, num_timesteps, \n",
        "            embedding_dim, **kwargs):\n",
        "        super(CharGenModel, self).__init__(**kwargs)\n",
        "        self.embedding_layer = tf.keras.layers.Embedding(\n",
        "            vocab_size,\n",
        "            embedding_dim\n",
        "        )\n",
        "        self.rnn_layer = tf.keras.layers.GRU(\n",
        "            num_timesteps,\n",
        "            recurrent_initializer=\"glorot_uniform\",\n",
        "            recurrent_activation=\"sigmoid\",\n",
        "            stateful=True,\n",
        "            return_sequences=True\n",
        "        )\n",
        "        self.dense_layer = tf.keras.layers.Dense(vocab_size)\n",
        "\n",
        "    def call(self, x):\n",
        "        x = self.embedding_layer(x)\n",
        "        x = self.rnn_layer(x)\n",
        "        x = self.dense_layer(x)\n",
        "        return x"
      ],
      "execution_count": null,
      "outputs": []
    },
    {
      "cell_type": "markdown",
      "metadata": {
        "id": "VHqYcTEyvk4y"
      },
      "source": [
        "## Lets build the model"
      ]
    },
    {
      "cell_type": "code",
      "metadata": {
        "colab": {
          "base_uri": "https://localhost:8080/"
        },
        "id": "yD8w5WwXvLN0",
        "outputId": "8b4ca5a7-a751-4a09-99c4-651957717fba"
      },
      "source": [
        "vocab_size = len(vocab)\n",
        "embedding_dim = 256\n",
        "rnn_output_dim = 1024\n",
        "\n",
        "model = CharGenModel(vocab_size, seq_length, embedding_dim)\n",
        "model.build(input_shape=(batch_size, seq_length))\n",
        "model.summary()"
      ],
      "execution_count": null,
      "outputs": [
        {
          "output_type": "stream",
          "text": [
            "Model: \"char_gen_model\"\n",
            "_________________________________________________________________\n",
            "Layer (type)                 Output Shape              Param #   \n",
            "=================================================================\n",
            "embedding (Embedding)        multiple                  22016     \n",
            "_________________________________________________________________\n",
            "gru (GRU)                    multiple                  107400    \n",
            "_________________________________________________________________\n",
            "dense (Dense)                multiple                  8686      \n",
            "=================================================================\n",
            "Total params: 138,102\n",
            "Trainable params: 138,102\n",
            "Non-trainable params: 0\n",
            "_________________________________________________________________\n"
          ],
          "name": "stdout"
        }
      ]
    },
    {
      "cell_type": "markdown",
      "metadata": {
        "id": "kDpHAvlnvmxp"
      },
      "source": [
        "## Lets define a sparse categorical crossentropy function."
      ]
    },
    {
      "cell_type": "code",
      "metadata": {
        "id": "OACXxcH9vTd4"
      },
      "source": [
        "def loss(labels, predictions):\n",
        "  return tf.losses.sparse_categorical_crossentropy(\n",
        "      labels,\n",
        "      predictions,\n",
        "      from_logits=True\n",
        "  )\n",
        "model.compile(optimizer=tf.optimizers.Adam(), loss=loss)"
      ],
      "execution_count": null,
      "outputs": []
    },
    {
      "cell_type": "markdown",
      "metadata": {
        "id": "-bz_OvQ2v1bV"
      },
      "source": [
        "## Lets define a function to generate the text using the LSTM Network, we will generate 1000 characters."
      ]
    },
    {
      "cell_type": "code",
      "metadata": {
        "id": "y0AJ74Cevupj"
      },
      "source": [
        "def generate_text(model, prefix_string, char2idx, idx2char,\n",
        "        num_chars_to_generate=1000, temperature=1.0):\n",
        "    input = [char2idx[s] for s in prefix_string]\n",
        "    input = tf.expand_dims(input, 0)\n",
        "    text_generated = []\n",
        "    model.reset_states()\n",
        "    for i in range(num_chars_to_generate):\n",
        "        preds = model(input)\n",
        "        preds = tf.squeeze(preds, 0) / temperature\n",
        "        pred_id = tf.random.categorical(preds, num_samples=1)[-1, 0].numpy()\n",
        "        text_generated.append(idx2char[pred_id])\n",
        "        input = tf.expand_dims([pred_id], 0)\n",
        "\n",
        "    return prefix_string + \"\".join(text_generated)"
      ],
      "execution_count": null,
      "outputs": []
    },
    {
      "cell_type": "markdown",
      "metadata": {
        "id": "gq0TZ5Osw8IU"
      },
      "source": [
        "## TO NOT PRINT WARNINGS"
      ]
    },
    {
      "cell_type": "code",
      "metadata": {
        "id": "fKa0JSuUw_K-"
      },
      "source": [
        "tf.compat.v1.logging.set_verbosity(tf.compat.v1.logging.ERROR)"
      ],
      "execution_count": null,
      "outputs": []
    },
    {
      "cell_type": "markdown",
      "source": [
        "## Lets train the model for 200 epochs, and print the generate text every 10 epochs, we can see that on each epoch the text gets better."
      ],
      "metadata": {
        "id": "AYp-Af7x0Tv4"
      }
    },
    {
      "cell_type": "code",
      "metadata": {
        "colab": {
          "base_uri": "https://localhost:8080/"
        },
        "id": "K97ZLOXev70C",
        "outputId": "9dba2080-caab-4b92-b92d-e48d9226b1f3"
      },
      "source": [
        "num_epochs = 200\n",
        "for i in range(num_epochs // 10):\n",
        "    model.fit(\n",
        "        dataset.repeat(),\n",
        "        epochs=10,\n",
        "        steps_per_epoch=steps_per_epoch,\n",
        "        verbose = 0\n",
        "    )\n",
        "    checkpoint_file = os.path.join(\n",
        "        CHECKPOINT_DIR, \"model_epoch_{:d}\".format(i+1))\n",
        "    model.save_weights(checkpoint_file)\n",
        "    gen_model = CharGenModel(vocab_size, seq_length, embedding_dim)\n",
        "    gen_model.load_weights(checkpoint_file)\n",
        "    gen_model.build(input_shape=(1, seq_length))\n",
        "    \n",
        "    #print(\"after epoch: {:d}\".format(i+1)*10)\n",
        "    print(generate_text(gen_model, \"Alice \", char2idx, idx2char))\n",
        "    print(\"---\")"
      ],
      "execution_count": null,
      "outputs": [
        {
          "output_type": "stream",
          "text": [
            "Alice long, now, then _I_ frouthe one that go in a tHed you won’t, she head on a conent.” “LIt’s holding of horse!’ ‘Bew! Feim, you all mean, for free of elence. “I was lowight: “there’s tome, till you’d bedn poor creath that it make. Now it when they hureds. “But it’s not lighation than the horse the froll of ‘Whead from in the shelf, you know, I must only a Queen.” “I was verg to fore’s a five that tw, emp, there was in the way, what held, but taking them jour during to you concein visiver at one I begoring her feet.” And he four you.” But called and the Sheep: “questidy. “It’s think bies of it.” “I’m sut he looked as it’s got proplest took turn; and what _must_ very go over the are way side,” Alice liler people if you don’t head and trying up the wepting on till wheerd little with the sit quite bricked any more, and anyone brown are in that Alice gently heaphing oa sight a borts watching themm out of charge on her next to childument it besard, but I stood you any vairn at the Project Gute\n",
            "---\n",
            "Alice long to the each by a Red Queens. It’s naxe at thedm to her feleral for the horse,” the Queen if you side was ans. 1.E.1. Not presenin, if yhe walking to fill?” “Neredly: “I’ll till, you know, He said that I vany: which was number, without no myself, all get that do but ask as severed herself, the sureshe said to have not agree, I’m not the door how the ascopors of Alice min_ them getuared it wireks they extreamenn’s Alice as he run, come horse.” “What a little lobl this foad branch and rewased to keep and be a little five a Project kitted: but (she tood, “No?” “Noke back in figgest at a minnce fastles winner creatule I do soum fortand so. YOU WWALINTYECT THE ROCT—I” And Alice “The Knight sayiget isn’t find tulking on tears as nee you some with each manning at thilk, with mystual!” he’ pay! She was electronic work!” And here their feer oathem.! Alice sude_ it solice—the CO LIISCI-She hels with electronic work. 1.E.. Ne began from so horse put his head in any sicker to sen a gally all a\n",
            "---\n",
            "Alice Frogs, Alice went on in project tever each me a tone to crost wwight, have been way of you’ve intsey,” said Alice!’ Alice have you do you know I haven’t some open,” Haigha—I Or go inction.) ‘No kindy.) “No masters said, “I was in that not was with only feet used to be cared. 1.F. LInf full—and her complained “I till you’ve For, in the hamp like a chumbled (and so at the backed of the kiolsite.” “Why, I only road sort it great dare the falling suddenly free and offend a tunness rather protectedned this willally, that she cat in this dishes all in his walk his hounder,” thought Alice had this a Queen things: “Can _calling.” The questity. “Mealthy with a minute with a side to see his hapseling, “like to sering very cure the two of an away, but if I’m couldn’t speady begind _ways_ feel must on certacal plantse?” But you go on the permires the Project Gutenberg and more. Hat’s hill looking Alice heard_—there’s a very little factly, looking held in a little fastened at all in that I’ve beson\n",
            "---\n",
            "Alice Queens said till as you frotched free faces, _or question when I’m seven’t really—she stood and saying, toof sever astone. “How three under to her be at her been from teck. 1.o. For ting pronce as not your inverf—not, are formatied So. Roy. Ohe rather! You see _hand_. but its langobacting riderup collak up all wwill her, and sprair, as a dread: clied Tweedledum do?” said the Unich1, and, I wonder on the Red Queen, speresed “Ye’d justs upance, for the grannmery where will that then beginnity hus so round the bright all again it. “Do yet a green and said Jush inttyoubsite), as I time at last, getting or sing over!” the Lion. “It’s lan. It’s e on fan more. So snokiching uplese there’ fasten atself face _was_ knoce and Alice aspek. “I must get out ‘finger come of lithin the facessed: but you meanisy?” she howasugh the thought answer putting the old looce they always been from my roll of Alice. “though; then the gatenty?” Alice said, “They say ‘_why. The door and gave her “Jucent of effice—\n",
            "---\n",
            "Alice full, but the Knight was sounder’s hear!” Alice didn’t know the Eighth She help throw place—and shall be a Queen, like been only a Project Gutenberg-tm thought. “That was what would happen not never_ began seem quick and courts much for and twick at last; so for a tell, ag the song, she was got the trimer what the bock by so it was alise.” “The sear-ascuse (for that he had the nue, againly may _visit eBoojesty?” thought Ahe was interr eyes, stoppy and a good to side Tweedlud it know the Queen so un-way to say nuttled. “It so, 36I_ “This was hard. She seven’t just alway; However, only she holderblices; happrot—like a Project Gutenberg-tm elect out on the mindout cure of chtage lially. ‘It it was nothite.” Ahow! I think proot round that got make them my doon,” said Alice. “bees isn’t a rider we’mecained—quiet_! I’ll be a work. “The provisions his last the wall not full of fifty firsted. “Through a sifting large as he woods they plaze of Project Gutenberg License by all how big, and when \n",
            "---\n",
            "Alice Uniceg, as a glucal of theten just had, and smiled and frot,” Humpty Dumpty ear, and beg-tair,” she thou shook out of the distribute it a crast, as thilf, all,” the Queen said, as she miledn’t min_ thissees and take alreem? They most candles. How a little day gave it would_ no, and so shutel! It was dreaming than here them cright and things he cried with the begch all her breath 1.E.7 ound tobock!” the Queen can do yet. But she was stopped to remarked sometimes toice bolf?” the Knight said as the Ghe squares on, when both like the eld as he gitting his ucenbeliice tell all the way,” Alice said. “Do sell bright it, and speak alfeed. Then this and uncorterly, if I had had a very good his hall, and how that had glasse, I’ve—” (ther make bees use youre mustenberg Foult of I said to her to say all,” said Tweedledee, who came to herself, very muring, Kitty!” and they must help that she horse. Let in the time—But—” Alice side from the mive breath, and much went up the momentle; but he had not\n",
            "---\n",
            "Alice Frogged.” We fell resuse \"Pledusted. “It’s brickles, that’—bething—and that looked at large Foundational nearly, and what was which through the waiter with prined to was—“Exceveral sornthing, and then twied intice, I mean in it prood up and he place of you to go and she criend. Alice couldn’ther chooked and e are then they looked to wire—they’re brear!” And out of the poorly remark, disf very nong of nice of better a good to me from to checring like a finger away fished at her side am her hor _dyre_’ mailed amoth-row, that’s the to bor eyes.” Only below from ‘have into you!” And out at the same with hin halive, if there’s a har. It would a Red Queens sat room bedure!” the Queen said say,” Alice said a numpling to ones.) “And all no chiremard to do. You must be disnd. She stood never caw, and is do—And then you had To he pause, very long to returned the felled are listen your having at her fish Beginning cid!” (they was wish The crance as does, stoard herself! Bread” the Tiger-lackly th\n",
            "---\n",
            "Alice Fight to the hard—Don you put no ask a tight slice to say ‘Which and wood the other By when I’cleebly they provide all. “They were reepty—down, rather und with extributing all the rest. It it was a frightened at the kereasy there was no bay!” “I recidee. “It said, “it deid it?” “only surprised ‘Buttenced at last his hand, as if,” said Humpty Dumpty horses. They mark. The King waully said, wonderfhought. “Nobody, belest comple night of “Now,” thought Alice. “And so by trickles, sideral larged take to say it do to, Ty like to see donatch—I littloub. “I’m suppeard what would never ensider,” said Alice: “wood. “Aspested that Alice did anybodys, the boughed your a bit—Aning: inco please, very in that they say come noticud or spread sigher ($ing. “I shouldn’t not to your boat meaning CHAPTER V. I butting them vicittle name of the white vice strautisities on the off nong,” said crietch soon wouldounss!” “I wonder if the King dedily away that they say the bany ‘going is beginning visted and sl\n",
            "---\n",
            "Alice Unicenthrat the Looking-Gnce plusion after sure,” the Gnat not conten bread.n “buly lulled _I_’re a dog scorng to herself something like said tire of ither than (af ‘I’m breath: and such her heads very much a little arms of presenty!” Then things as if _lake it means of a fee here. A very picket, and my dinber-garese _larkshe paragraphational de with Dod that it wasn’t his halst, wake them “Let’s in_ water as macis springed: “limy I added, misshe’s hair, as she hearly even ound, that Alice poutting Alice. “that’s the two should be his more as there, and it stood “Of me her in the shelvouthing of the two Archive. However, As she did it asking agait; it tiddnce so thick, just that difful uples! Ever any armbled bleasing or Messenged that rather with a little dreampled up,” Tweedledum_, you must to iner,’ all, Alice he scouldn’t make to them. She said: “there’s they were thand that was into them made, whiling in cauching hard of punly get out you’d been not with the things off alouded dog\n",
            "---\n",
            "Alice Factrisuterwards we’re _houghu’d believe it seemed butter?” said Tweedledee wet, that it’s because your notimself in really soon, only it crow if you can daited marked “I don’t off, and the front as Alice rawl at the use things by the confermitation ammost clossing got do?” “to say, wave good, and be your days or the book.” She whattily her. “And dopminaisueraling. “Is do!” cried Alice gunting of the country used it on, no rund that no the United:: “what they meant through pet, pretended you!” “I don’t know he drissing the poor Queen. The cordscuting like brying your swong acl paragraph 1.E.8 and face of the end of through herself _no_ the uging off, and to of eyes. He then forget fill the rushes, through in a though and imstering put over that it’s copyright, so they had compfunding works,” the Knight sat looking so, what they paw down, and mean, you meffect with a tree—but—’ you you “Good-hand, some right: the Lion with a day Alice verg knitten the thing!” and only purt. “Her his fac\n",
            "---\n",
            "Alice took proving out moutif vant up, five alves ambled it crims to speak how they got or last take into the other “Yes, _ake got up do you know what it’s needledum over voice, on very consideral itself, looking my answer head; They’ve graps with the feam daisief) followed it’s preated it, but his, we founching frightened reach onecaution again. “What a treat that’s country added up life?” she sion, “but it?” Alice said this make a subject the feelder and any brown brought good looked able to suppose I d ket limittern statisie more.” “I always a queens was no ry of the Cartedn’t can’t your a did,” said Alice. “Be come ofters, you see—” the Red Queen as The Liyer, who were gighted. “And things to hisiallanelf believe nea longh: conting of a delf. “_outges as purr being large tone. “Who falculud! Just get his or this, have it as do. For under the cent of his asked to them—” The SEA THE NOR TBEEF ALAVECTONCLT ENY Hadn’t mive, at a groagen strame, “Mansoe bust have hot obttererng the eBook— And\n",
            "---\n",
            "Alice very nation. At last. “There was?” Alice as-gray,” she added some one it grands: Or as he d invented it _you_, yet, and her. “Then propened. And we quite searing to,\" soon, “and I’m atle!” the Queen said. “And all this a tree, thinking last.’ ‘You needn’t when she was she too. I thoughty Didestly gravely best little be nuers of bought?” “Don’t knowinger. And then house. “I’m not on filling it very quieen into the “e town, and had _you_ can here?” the White Queen intunale drawn nothing for him, ‘The other thinking door and standower. All the movisiver as she cerse,” said the Unicorn were used him our pider), “you works, Oum chies or two lan puzzling it like tires at benow off. “If she were thut. “Why, _do_ help again. “A thought do so the White Queen. “That _cause 1.4-6268 Uncute. She couldn’t didn’t with me one of the stupise seep to Alice in herself!” “I’m breath that name. Thee only fees; you know, It it managed duviles taking your rone—they’ll try in this time, that wive the Lion as\n",
            "---\n",
            "Alice volityemabef Arg, it _gimm_ likely written, son’t mounthy’?” the Red Queen said, “but Alice had not very liups.” the Queen thinking with me rathurr?” Tweedle_ of no up doon, to frighten found things im thake a Queen. “So, and had along to say ‘old fall offerd in that betare is elegrong: won’t there’r pudding he hels at twe onny begining things they can looker-For nears very under. And a thing, and would had a graph again. “Do you think a wlought,” the Knight said in it?” “Well, this ounte al tece marnee. “Cone walking into the fessed to a got up fasters onself off with great donation sawwinning befour say all,” said Alice. “Where is eleg. “It _is_ course it make was you as sawly can’t anxied littions. “That’s pretend thisked. NrByerigg hurt are pus gentle, with the botting through her the both rattle—and for large ascried. “I gen laise that she directick,” she hadn’t silence, has the Mepmay,” she said the other in a little huggrite never seathing “but brought _not_ supplictions and sta\n",
            "---\n",
            "Alice long that was was the Red King. “Not the King was Humpty Dumpty talking blow chessect with say ‘going in the other with copy. “What as isn’t your hiss the barg forself snice, thiscky’t course.” “Do you say it’s very much gens and spietid in the miper sile tone. “Why did, and began to lifted to get so, to laughatuching a right cortable to get on! “Threemen howng to and like a slimblequended here persoon’id to see when the Sngers to Alice’s name of this very minned on bring her feet of the covellum-byine. The Sheep: that Alice nea thoughtful down farticking by yentumed from the could gen, there was the country aditeven. “I wonder’ the Queen, letting firm-tike here his _would_ is tice she alved a belance as looked dress on the caught them while the Unicorn of the and like a sent with backwherswish morta sliles said. “Oh, hot comes to the Project Gutenberg-tm License we thong _called him. “You won’t time. Alice round the took her windout her lates the boat, Kitty—they Dinject Gutenberg-tm \n",
            "---\n",
            "Alice Founted mouth againsion, and soon tell much for the Red Queen?” Alice releasy, and I did to yourself?” She must wollwiler access two use!” “You were to chee’ve’s she found watching off thought quite took her egg to drect of this agreeders—and must that have branginn going on way, parke in the because the sade pettle that’s the thought, which you’ll be tree. They’ve gris—as Turss it _what_ couldn’t Alice troarsy scripposite remark, perse-dilave to be looked so Licend! just certain of a not good inventing of fight, you couldn’t remembled the look and it darked in the elffulthy too large all deal!” he said. I say ‘I hope, as there was up more, ever, why it, to get the grighter, when you alway,’” Alict-chavesh the Queen’s badsem, the oar!” There did, and matter, quite stropped how to kinds, but I wish I’ll say, it was said, “and the carrea nobstens too off property more in you knep. He like charge a choll is it, and talk it pleautianing at his out sostread-byeass, you’d lazan Mons to be st\n",
            "---\n",
            "Alice reanisapentle, “they put that on the thing_?” “Yes, I shooch times things they must his, checall—but it, before it _wish_ yearsey such head real duphorasion a are fell of great much hanger to don’t reelicefulter then it is poor 25 1/I_ flast. The Walruspose to-m_.’ ‘here about so wabet warked of shamper what this cared but is a guested and time! Eve lasts in to get, as cheers—Go-distribucY had done ran vany rill mostrughtly. “Were things—ball may gently were _that_?” he said I crappraph you know on, whenfull. “You must the Carpenter—while; ahong forms itself—treater?” the White Queen feet of this sliel. “Conges Chorse adion, suddenly does all the things that, thanking you, and were _Prout_ nothreccestanting with this of them?” “Snoding, I asked withee, as any cader be’s were for it, after an place in some, “who conge for only put it it coming to get use to compaing trademed to proved, may, what’s hands over two ovee fulought she couldn’t don’t cit fell you tell me farther had day nonse\n",
            "---\n",
            "Alice roll how the other nice agreement as main by put his heav?nicoughled as soon “I wonder now it comoring chicing hungry warched just rightly. You see _What’s invion Done?” Then _soud pight, and some,” said Just know you life, and always scrighters. But Alice was sticky done: “and that’s going to mees,” said Alice. “I shall manage in a tried out. She pair, and do not minntatee’s intept of one own intrieral foursteds obtibite I dustrable, “and then it up on the saw. And as forise was nobody came out of the word for as must _arms of the old crast, as the severy had—nuellas of its, fall in someht to driss—and she had come are a pawcreaster loves the Carpenters, pre to be things. Ye carefully lay, but the enoughas pabient sixlied much— Linght in Byes, then, as she whispered at only froked a full at so Liter about that the Mers for a look to the daresel more, conficabley that mich ty!” Humpty Dumpt and were there’s a rattle said, ‘that would be head, intual little crarsty!” “I wonder, as if’s \n",
            "---\n",
            "Alice and lawing: Missed to take all the mome and because (for curtices a little ball up!” “But I’ve somether: * ***** * * * * * * * * * * * * * * * * * * * * * * * * * * * * * * * * * * * * * * * * * * * * and there’s the triething; indle.” At the ame py. The Project Gutenberg Literar to her you know, It can fails and sets, and have my. “I’m very for silence, you know.” Alice couldn’t her ways you willy, who mert to Alice—but what were words than the same as severable anglemn a bag with a good looking out in this about,” said Alice: “She shandon about the upping dead to gree with the dany move you paw, only the sake notice or subject of my an himse, with corrier so unded to suching a voice, you know It’s asic more warger so loud. “Then.” “To you know!” said the las to driss. But I was into Alice’s diskless of than the others, and then the hall.” “Oh! every puddinging ines of Project Gutenberg hill life and off no one—Whose neck afterwards by all some would have saud_. “But I don’t know the \n",
            "---\n",
            "Alice and license? I had plan); you’ve head in a dog up on, an one _tise_’ is away, with not with arm Project Gutenberg-tm is a lasts. But the erought folanched of every more about it,” he repiesed: afraid and fast looked fill,” said Alice looked at fresently volful one. Intently, by dream-suppose long apperes exceant slowly—the reastions?” said the Queen: and the Tiger-lily,” the Queen was into dowardsons—” thty shout a poor in really _is_ she had got at all of Licenbelled to get knothing it obody Carros way to the oppeakilly fall from, intuch at the tere the flying to the United Secons—memoring, wofrabiler to see her and thinking,” said Tweedledee round the elep! And her fead his tell she talking both other,” she said, “I think her quite just like thculled that: all to get the heaver wheterted him offends are of running off up to enmon _your-hask. The cried; “What this appice, which you believe is _fyam_ _you_.) “Of couyerAl wonders at last, worse to this, door called _Dovates broviden, po\n",
            "---\n",
            "Alice thought her by them bang with an it so. Rollake way, Wall hand “In Tweedledee’s are wleep dispy of itself hor cauce tone! Bat reamann it meech another size as she was too cun shun, with you can meating the perfor that the Jubjust with politere?” Alice felt e—” “I don’t _did_ though, with kind just over the Queen, and sort you could see—it citk: a-did go hardly chorus pased it, eldes?” “If Tweedll ver the Red Queen, but hunbles for sitting little excuse meplake!” “You know all: and I don’t see all in all his horse,” she was to have so Roour them thinking to do, you know,” said Tweedledum-rist with his arring hears say thee fudatifuse, ‘he remarked. “Now you ham tone. “I kiddnef then I don’t ghabsing at the Red Queen, and she had faughts, and stand for dienceft the who wass but it lisite!” She was some umplous in the world country—provile as she wood And be, into my could never,” Alice hope you know I can see a new onn attended up one’s all the remark to stop along each asper, if all a s\n",
            "---\n"
          ],
          "name": "stdout"
        }
      ]
    },
    {
      "cell_type": "code",
      "metadata": {
        "id": "D4K9iU86yW-C"
      },
      "source": [
        ""
      ],
      "execution_count": null,
      "outputs": []
    }
  ]
}